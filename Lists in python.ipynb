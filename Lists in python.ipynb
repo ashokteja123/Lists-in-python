{
 "cells": [
  {
   "cell_type": "markdown",
   "id": "6b8fb020",
   "metadata": {},
   "source": [
    "Lists\n",
    " It is a version of a sequence in Python. Unlike strings, they are mutable, meaning the elements inside a list can be changed!\n",
    "\n",
    "In this section we will learn about:\n",
    "\n",
    "1.) Creating lists\n",
    "2.) Indexing and Slicing Lists\n",
    "3.) Basic List Methods\n",
    "4.) Nesting Lists\n",
    "5.) Introduction to List Comprehensions\n",
    "\n",
    "Lists are constructed with brackets [] and commas separating every element\n"
   ]
  },
  {
   "cell_type": "code",
   "execution_count": null,
   "id": "d3c606ad",
   "metadata": {},
   "outputs": [],
   "source": [
    "# Assign a list to an variable named my_list\n",
    "my_list = [1,2,3]\n",
    "We  created a list of integers, but lists can actually hold different object types. For example:\n",
    "\n",
    "my_list = ['A string',23,100.232,'o']\n",
    "Just like strings, the len() function will tell you how many items are in the sequence of the list.\n",
    "\n",
    "len(my_list)\n",
    "4\n"
   ]
  },
  {
   "cell_type": "markdown",
   "id": "dd141b8c",
   "metadata": {},
   "source": [
    "Indexing and Slicing\n",
    "Indexing and slicing work just like in strings\n"
   ]
  },
  {
   "cell_type": "code",
   "execution_count": 2,
   "id": "ed5a9d51",
   "metadata": {},
   "outputs": [
    {
     "data": {
      "text/plain": [
       "'one'"
      ]
     },
     "execution_count": 2,
     "metadata": {},
     "output_type": "execute_result"
    }
   ],
   "source": [
    "my_list = ['one','two','three',4,5]\n",
    "# Grab element at index 0\n",
    "my_list[0]\n"
   ]
  },
  {
   "cell_type": "code",
   "execution_count": 3,
   "id": "d3d226d6",
   "metadata": {},
   "outputs": [
    {
     "data": {
      "text/plain": [
       "'three'"
      ]
     },
     "execution_count": 3,
     "metadata": {},
     "output_type": "execute_result"
    }
   ],
   "source": [
    "my_list[2]\n"
   ]
  },
  {
   "cell_type": "code",
   "execution_count": 4,
   "id": "db337a54",
   "metadata": {},
   "outputs": [
    {
     "data": {
      "text/plain": [
       "5"
      ]
     },
     "execution_count": 4,
     "metadata": {},
     "output_type": "execute_result"
    }
   ],
   "source": [
    "my_list[4]"
   ]
  },
  {
   "cell_type": "code",
   "execution_count": 5,
   "id": "cfb3b7c9",
   "metadata": {},
   "outputs": [
    {
     "data": {
      "text/plain": [
       "['one', 'two', 'three', 4, 5, 'new item']"
      ]
     },
     "execution_count": 5,
     "metadata": {},
     "output_type": "execute_result"
    }
   ],
   "source": [
    "my_list + ['new item']\n"
   ]
  },
  {
   "cell_type": "code",
   "execution_count": 6,
   "id": "82a688fc",
   "metadata": {},
   "outputs": [
    {
     "data": {
      "text/plain": [
       "['one', 'two', 'three', 4, 5]"
      ]
     },
     "execution_count": 6,
     "metadata": {},
     "output_type": "execute_result"
    }
   ],
   "source": [
    "my_list"
   ]
  },
  {
   "cell_type": "code",
   "execution_count": 7,
   "id": "4affdf28",
   "metadata": {},
   "outputs": [
    {
     "data": {
      "text/plain": [
       "['one', 'two', 'three', 4, 5, 'one', 'two', 'three', 4, 5]"
      ]
     },
     "execution_count": 7,
     "metadata": {},
     "output_type": "execute_result"
    }
   ],
   "source": [
    "# Make the list double\n",
    "my_list * 2\n"
   ]
  },
  {
   "cell_type": "markdown",
   "id": "053a1f74",
   "metadata": {},
   "source": [
    "# List methods\n",
    "let us see some popular list methods"
   ]
  },
  {
   "cell_type": "code",
   "execution_count": 8,
   "id": "7fc88279",
   "metadata": {},
   "outputs": [],
   "source": [
    "# Create a new list\n",
    "list1 = [1,2,3]\n"
   ]
  },
  {
   "cell_type": "code",
   "execution_count": 9,
   "id": "85642d6a",
   "metadata": {},
   "outputs": [],
   "source": [
    "# Append\n",
    "list1.append('append me!')\n"
   ]
  },
  {
   "cell_type": "code",
   "execution_count": 11,
   "id": "0b492f4e",
   "metadata": {},
   "outputs": [
    {
     "data": {
      "text/plain": [
       "[1, 2, 3, 'append me!']"
      ]
     },
     "execution_count": 11,
     "metadata": {},
     "output_type": "execute_result"
    }
   ],
   "source": [
    "list1"
   ]
  },
  {
   "cell_type": "code",
   "execution_count": 12,
   "id": "6a64e71a",
   "metadata": {},
   "outputs": [],
   "source": [
    "# Assign the popped element, remember default popped index is -1\n",
    "popped_item = list1.pop()\n"
   ]
  },
  {
   "cell_type": "code",
   "execution_count": 13,
   "id": "67244231",
   "metadata": {},
   "outputs": [
    {
     "data": {
      "text/plain": [
       "'append me!'"
      ]
     },
     "execution_count": 13,
     "metadata": {},
     "output_type": "execute_result"
    }
   ],
   "source": [
    "popped_item"
   ]
  },
  {
   "cell_type": "code",
   "execution_count": 14,
   "id": "6b0612b2",
   "metadata": {},
   "outputs": [],
   "source": [
    "list1.reverse()"
   ]
  },
  {
   "cell_type": "code",
   "execution_count": 16,
   "id": "49abf501",
   "metadata": {},
   "outputs": [
    {
     "data": {
      "text/plain": [
       "[1, 2, 3]"
      ]
     },
     "execution_count": 16,
     "metadata": {},
     "output_type": "execute_result"
    }
   ],
   "source": [
    "list1"
   ]
  },
  {
   "cell_type": "markdown",
   "id": "e9902354",
   "metadata": {},
   "source": [
    "# nesting lists\n",
    "Nesting Lists\n",
    "A great feature of of Python data structures is that they support nesting. This means we can have data structures within data structures. For example: A list inside a list.\n",
    "\n",
    "Let's see how this works!\n",
    "\n",
    "# Let's make three lists\n",
    "lst_1=[1,2,3]\n",
    "lst_2=[4,5,6]\n",
    "lst_3=[7,8,9]\n",
    "\n",
    "# Make a list of lists to form a matrix\n",
    "matrix = [lst_1,lst_2,lst_3]\n",
    "\n",
    "\n",
    "# Show\n",
    "matrix\n",
    "[[1, 2, 3], [4, 5, 6], [7, 8, 9]]\n",
    "We can again use indexing to grab elements, but now there are two levels for the index. The items in the matrix object, and then the items inside that list!\n",
    "\n",
    "# Grab first item in matrix object\n",
    "matrix[0]\n",
    "[1, 2, 3]\n",
    "\n",
    "\n",
    "# Grab first item of the first item in the matrix object\n",
    "matrix[0][0]\n",
    "output = 1\n"
   ]
  },
  {
   "cell_type": "markdown",
   "id": "085ce6b8",
   "metadata": {},
   "source": [
    "# List comprehensions"
   ]
  },
  {
   "cell_type": "code",
   "execution_count": null,
   "id": "e7649602",
   "metadata": {},
   "outputs": [],
   "source": [
    "# Build a list comprehension by deconstructing a for loop within a []\n",
    "first_col = [row[0] for row in matrix]\n"
   ]
  },
  {
   "cell_type": "code",
   "execution_count": null,
   "id": "e5594210",
   "metadata": {},
   "outputs": [],
   "source": [
    "output\n",
    "first_col\n",
    "[1, 4, 7]"
   ]
  }
 ],
 "metadata": {
  "kernelspec": {
   "display_name": "Python 3 (ipykernel)",
   "language": "python",
   "name": "python3"
  },
  "language_info": {
   "codemirror_mode": {
    "name": "ipython",
    "version": 3
   },
   "file_extension": ".py",
   "mimetype": "text/x-python",
   "name": "python",
   "nbconvert_exporter": "python",
   "pygments_lexer": "ipython3",
   "version": "3.9.7"
  }
 },
 "nbformat": 4,
 "nbformat_minor": 5
}
